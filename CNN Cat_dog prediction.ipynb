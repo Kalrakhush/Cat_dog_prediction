{
 "cells": [
  {
   "cell_type": "code",
   "execution_count": 2,
   "id": "06bac0a2",
   "metadata": {},
   "outputs": [],
   "source": [
    "import tensorflow as tf\n",
    "from keras.preprocessing.image import ImageDataGenerator"
   ]
  },
  {
   "cell_type": "markdown",
   "id": "38109a66",
   "metadata": {},
   "source": [
    "# Preprocessing"
   ]
  },
  {
   "cell_type": "markdown",
   "id": "94984089",
   "metadata": {},
   "source": [
    "preprocessing training set"
   ]
  },
  {
   "cell_type": "code",
   "execution_count": 3,
   "id": "de2bc1c4",
   "metadata": {},
   "outputs": [
    {
     "name": "stdout",
     "output_type": "stream",
     "text": [
      "Found 8000 images belonging to 2 classes.\n"
     ]
    }
   ],
   "source": [
    "train_datagen = ImageDataGenerator(rescale = 1./255,   #pixels of image\n",
    "                                   shear_range = 0.2,\n",
    "                                   zoom_range = 0.2,\n",
    "                                   horizontal_flip = True)\n",
    "training_set = train_datagen.flow_from_directory('dataset/training_set',\n",
    "                                                 target_size = (64, 64), #small will make training faster\n",
    "                                                 batch_size = 32,\n",
    "                                                 class_mode = 'binary')"
   ]
  },
  {
   "cell_type": "markdown",
   "id": "f7bec44f",
   "metadata": {},
   "source": [
    "preprocessing test set"
   ]
  },
  {
   "cell_type": "code",
   "execution_count": 4,
   "id": "46980409",
   "metadata": {},
   "outputs": [
    {
     "name": "stdout",
     "output_type": "stream",
     "text": [
      "Found 2000 images belonging to 2 classes.\n"
     ]
    }
   ],
   "source": [
    "test_datagen = ImageDataGenerator(rescale=1./255)\n",
    "\n",
    "test_set = train_datagen.flow_from_directory(\n",
    "        'dataset/test_set',\n",
    "        target_size=(64, 64),\n",
    "        batch_size=32,\n",
    "        class_mode='binary')"
   ]
  },
  {
   "cell_type": "markdown",
   "id": "c873f9df",
   "metadata": {},
   "source": [
    "# Building the CNN"
   ]
  },
  {
   "cell_type": "markdown",
   "id": "b67d6ae6",
   "metadata": {},
   "source": [
    "Initializing the CNN"
   ]
  },
  {
   "cell_type": "code",
   "execution_count": 5,
   "id": "868e927e",
   "metadata": {},
   "outputs": [],
   "source": [
    "cnn=tf.keras.models.Sequential()"
   ]
  },
  {
   "cell_type": "markdown",
   "id": "49d20ae8",
   "metadata": {},
   "source": [
    "Step 1:Convolution"
   ]
  },
  {
   "cell_type": "code",
   "execution_count": 6,
   "id": "83886915",
   "metadata": {},
   "outputs": [],
   "source": [
    "cnn.add(tf.keras.layers.Conv2D(filters=32, kernel_size=3, activation='relu', input_shape=[64, 64, 3])) #input shape is only in 1st layer"
   ]
  },
  {
   "cell_type": "markdown",
   "id": "14781f28",
   "metadata": {},
   "source": [
    "Step 2: Pooling"
   ]
  },
  {
   "cell_type": "code",
   "execution_count": 7,
   "id": "793fdf7b",
   "metadata": {},
   "outputs": [],
   "source": [
    "cnn.add(tf.keras.layers.MaxPool2D(pool_size=2,strides=2))   #reducing pixels"
   ]
  },
  {
   "cell_type": "markdown",
   "id": "619cfe9b",
   "metadata": {},
   "source": [
    "ADDing second convolution layer"
   ]
  },
  {
   "cell_type": "code",
   "execution_count": 8,
   "id": "8510e212",
   "metadata": {},
   "outputs": [],
   "source": [
    "cnn.add(tf.keras.layers.Conv2D(filters=32, kernel_size=3, activation='relu'))\n",
    "cnn.add(tf.keras.layers.MaxPool2D(pool_size=2,strides=2))"
   ]
  },
  {
   "cell_type": "code",
   "execution_count": null,
   "id": "328a58fb",
   "metadata": {},
   "outputs": [],
   "source": []
  },
  {
   "cell_type": "markdown",
   "id": "80e33b28",
   "metadata": {},
   "source": [
    "Step 3:Flattening"
   ]
  },
  {
   "cell_type": "code",
   "execution_count": 9,
   "id": "e2d883ce",
   "metadata": {},
   "outputs": [],
   "source": [
    "cnn.add(tf.keras.layers.Flatten())    #conveert into linear vector"
   ]
  },
  {
   "cell_type": "markdown",
   "id": "7da2694d",
   "metadata": {},
   "source": [
    "Step 4:Full Connection"
   ]
  },
  {
   "cell_type": "code",
   "execution_count": 10,
   "id": "d232ce08",
   "metadata": {},
   "outputs": [],
   "source": [
    "cnn.add(tf.keras.layers.Dense(units=120,activation='relu'))"
   ]
  },
  {
   "cell_type": "markdown",
   "id": "3b6b8f27",
   "metadata": {},
   "source": [
    "Output layer"
   ]
  },
  {
   "cell_type": "code",
   "execution_count": 11,
   "id": "c11ca70b",
   "metadata": {},
   "outputs": [],
   "source": [
    "cnn.add(tf.keras.layers.Dense(units=1,activation='sigmoid'))"
   ]
  },
  {
   "cell_type": "markdown",
   "id": "0973d645",
   "metadata": {},
   "source": [
    "# Training the model"
   ]
  },
  {
   "cell_type": "markdown",
   "id": "b971017c",
   "metadata": {},
   "source": [
    "Compiling the CNN"
   ]
  },
  {
   "cell_type": "code",
   "execution_count": 12,
   "id": "a74399f0",
   "metadata": {},
   "outputs": [],
   "source": [
    "cnn.compile(optimizer='adam',loss='binary_crossentropy',metrics=['accuracy'])"
   ]
  },
  {
   "cell_type": "code",
   "execution_count": 13,
   "id": "0300fbcb",
   "metadata": {},
   "outputs": [
    {
     "name": "stdout",
     "output_type": "stream",
     "text": [
      "Model: \"sequential\"\n",
      "_________________________________________________________________\n",
      " Layer (type)                Output Shape              Param #   \n",
      "=================================================================\n",
      " conv2d (Conv2D)             (None, 62, 62, 32)        896       \n",
      "                                                                 \n",
      " max_pooling2d (MaxPooling2D  (None, 31, 31, 32)       0         \n",
      " )                                                               \n",
      "                                                                 \n",
      " conv2d_1 (Conv2D)           (None, 29, 29, 32)        9248      \n",
      "                                                                 \n",
      " max_pooling2d_1 (MaxPooling  (None, 14, 14, 32)       0         \n",
      " 2D)                                                             \n",
      "                                                                 \n",
      " flatten (Flatten)           (None, 6272)              0         \n",
      "                                                                 \n",
      " dense (Dense)               (None, 120)               752760    \n",
      "                                                                 \n",
      " dense_1 (Dense)             (None, 1)                 121       \n",
      "                                                                 \n",
      "=================================================================\n",
      "Total params: 763,025\n",
      "Trainable params: 763,025\n",
      "Non-trainable params: 0\n",
      "_________________________________________________________________\n"
     ]
    }
   ],
   "source": [
    "cnn.summary()"
   ]
  },
  {
   "cell_type": "markdown",
   "id": "8adb34ef",
   "metadata": {},
   "source": [
    "Training the CNN  on Training Set and Evaluating it on test set"
   ]
  },
  {
   "cell_type": "code",
   "execution_count": 14,
   "id": "00bb0852",
   "metadata": {},
   "outputs": [
    {
     "name": "stdout",
     "output_type": "stream",
     "text": [
      "Epoch 1/25\n",
      "250/250 [==============================] - 40s 148ms/step - loss: 0.6649 - accuracy: 0.5947 - val_loss: 0.6201 - val_accuracy: 0.6715\n",
      "Epoch 2/25\n",
      "250/250 [==============================] - 31s 125ms/step - loss: 0.5948 - accuracy: 0.6796 - val_loss: 0.5735 - val_accuracy: 0.7065\n",
      "Epoch 3/25\n",
      "250/250 [==============================] - 31s 124ms/step - loss: 0.5574 - accuracy: 0.7121 - val_loss: 0.5462 - val_accuracy: 0.7275\n",
      "Epoch 4/25\n",
      "250/250 [==============================] - 32s 127ms/step - loss: 0.5190 - accuracy: 0.7386 - val_loss: 0.5200 - val_accuracy: 0.7460\n",
      "Epoch 5/25\n",
      "250/250 [==============================] - 32s 127ms/step - loss: 0.5000 - accuracy: 0.7496 - val_loss: 0.5210 - val_accuracy: 0.7555\n",
      "Epoch 6/25\n",
      "250/250 [==============================] - 31s 124ms/step - loss: 0.4789 - accuracy: 0.7675 - val_loss: 0.5056 - val_accuracy: 0.7640\n",
      "Epoch 7/25\n",
      "250/250 [==============================] - 33s 131ms/step - loss: 0.4628 - accuracy: 0.7771 - val_loss: 0.4918 - val_accuracy: 0.7700\n",
      "Epoch 8/25\n",
      "250/250 [==============================] - 36s 146ms/step - loss: 0.4487 - accuracy: 0.7916 - val_loss: 0.4871 - val_accuracy: 0.7780\n",
      "Epoch 9/25\n",
      "250/250 [==============================] - 35s 139ms/step - loss: 0.4388 - accuracy: 0.7951 - val_loss: 0.4835 - val_accuracy: 0.7740\n",
      "Epoch 10/25\n",
      "250/250 [==============================] - 31s 123ms/step - loss: 0.4178 - accuracy: 0.8034 - val_loss: 0.4709 - val_accuracy: 0.7810\n",
      "Epoch 11/25\n",
      "250/250 [==============================] - 31s 123ms/step - loss: 0.4002 - accuracy: 0.8154 - val_loss: 0.4797 - val_accuracy: 0.7750\n",
      "Epoch 12/25\n",
      "250/250 [==============================] - 32s 127ms/step - loss: 0.3901 - accuracy: 0.8274 - val_loss: 0.4823 - val_accuracy: 0.7865\n",
      "Epoch 13/25\n",
      "250/250 [==============================] - 32s 127ms/step - loss: 0.3814 - accuracy: 0.8251 - val_loss: 0.4954 - val_accuracy: 0.7765\n",
      "Epoch 14/25\n",
      "250/250 [==============================] - 32s 127ms/step - loss: 0.3618 - accuracy: 0.8413 - val_loss: 0.4817 - val_accuracy: 0.7895\n",
      "Epoch 15/25\n",
      "250/250 [==============================] - 33s 131ms/step - loss: 0.3568 - accuracy: 0.8393 - val_loss: 0.4976 - val_accuracy: 0.7845\n",
      "Epoch 16/25\n",
      "250/250 [==============================] - 34s 135ms/step - loss: 0.3476 - accuracy: 0.8482 - val_loss: 0.4911 - val_accuracy: 0.7785\n",
      "Epoch 17/25\n",
      "250/250 [==============================] - 33s 130ms/step - loss: 0.3326 - accuracy: 0.8553 - val_loss: 0.4836 - val_accuracy: 0.7835\n",
      "Epoch 18/25\n",
      "250/250 [==============================] - 33s 132ms/step - loss: 0.3103 - accuracy: 0.8670 - val_loss: 0.5159 - val_accuracy: 0.7875\n",
      "Epoch 19/25\n",
      "250/250 [==============================] - 33s 132ms/step - loss: 0.2981 - accuracy: 0.8710 - val_loss: 0.4861 - val_accuracy: 0.7900\n",
      "Epoch 20/25\n",
      "250/250 [==============================] - 32s 130ms/step - loss: 0.2998 - accuracy: 0.8724 - val_loss: 0.5054 - val_accuracy: 0.7895\n",
      "Epoch 21/25\n",
      "250/250 [==============================] - 32s 128ms/step - loss: 0.2814 - accuracy: 0.8809 - val_loss: 0.4980 - val_accuracy: 0.7890\n",
      "Epoch 22/25\n",
      "250/250 [==============================] - 33s 131ms/step - loss: 0.2624 - accuracy: 0.8892 - val_loss: 0.5189 - val_accuracy: 0.7860\n",
      "Epoch 23/25\n",
      "250/250 [==============================] - 32s 130ms/step - loss: 0.2536 - accuracy: 0.8916 - val_loss: 0.5227 - val_accuracy: 0.8015\n",
      "Epoch 24/25\n",
      "250/250 [==============================] - 33s 132ms/step - loss: 0.2430 - accuracy: 0.8966 - val_loss: 0.5077 - val_accuracy: 0.7910\n",
      "Epoch 25/25\n",
      "250/250 [==============================] - 33s 132ms/step - loss: 0.2297 - accuracy: 0.9026 - val_loss: 0.5120 - val_accuracy: 0.7925\n"
     ]
    },
    {
     "data": {
      "text/plain": [
       "<keras.callbacks.History at 0x274523d4a90>"
      ]
     },
     "execution_count": 14,
     "metadata": {},
     "output_type": "execute_result"
    }
   ],
   "source": [
    "cnn.fit(x=training_set,validation_data=test_set,epochs=25)"
   ]
  },
  {
   "cell_type": "code",
   "execution_count": 15,
   "id": "a2ff2719",
   "metadata": {},
   "outputs": [
    {
     "data": {
      "application/javascript": [
       "\n",
       "        if (window._pyforest_update_imports_cell) { window._pyforest_update_imports_cell('import numpy as np'); }\n",
       "    "
      ],
      "text/plain": [
       "<IPython.core.display.Javascript object>"
      ]
     },
     "metadata": {},
     "output_type": "display_data"
    },
    {
     "name": "stdout",
     "output_type": "stream",
     "text": [
      "1/1 [==============================] - 2s 2s/step\n"
     ]
    }
   ],
   "source": [
    "import numpy as numpy\n",
    "from tensorflow.keras.preprocessing import image\n",
    "test_image=image.load_img('img.JPEG',target_size=(64,64))\n",
    "#convert img into np format\n",
    "test_image=image.img_to_array(test_image)\n",
    "test_image=test_image/255\n",
    "test_image=np.expand_dims(test_image, axis=0)\n",
    "result=cnn.predict(test_image)\n",
    "training_set.class_indices\n",
    "if result[0][0]>=0.9:\n",
    "    prediction='dog'\n",
    "else:\n",
    "    prediction='cat'"
   ]
  },
  {
   "cell_type": "code",
   "execution_count": 16,
   "id": "76e9ea06",
   "metadata": {},
   "outputs": [
    {
     "name": "stdout",
     "output_type": "stream",
     "text": [
      "[[0.9810176]]\n"
     ]
    }
   ],
   "source": [
    "print(result)"
   ]
  },
  {
   "cell_type": "code",
   "execution_count": null,
   "id": "612ca30b",
   "metadata": {},
   "outputs": [],
   "source": []
  },
  {
   "cell_type": "code",
   "execution_count": 17,
   "id": "01346996",
   "metadata": {},
   "outputs": [
    {
     "name": "stdout",
     "output_type": "stream",
     "text": [
      "dog\n"
     ]
    }
   ],
   "source": [
    "print(prediction)"
   ]
  },
  {
   "cell_type": "code",
   "execution_count": null,
   "id": "0e430191",
   "metadata": {},
   "outputs": [],
   "source": []
  }
 ],
 "metadata": {
  "kernelspec": {
   "display_name": "Python 3 (ipykernel)",
   "language": "python",
   "name": "python3"
  },
  "language_info": {
   "codemirror_mode": {
    "name": "ipython",
    "version": 3
   },
   "file_extension": ".py",
   "mimetype": "text/x-python",
   "name": "python",
   "nbconvert_exporter": "python",
   "pygments_lexer": "ipython3",
   "version": "3.10.5"
  }
 },
 "nbformat": 4,
 "nbformat_minor": 5
}
